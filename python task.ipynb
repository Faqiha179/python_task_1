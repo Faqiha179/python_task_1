{
 "cells": [
  {
   "cell_type": "code",
   "execution_count": null,
   "metadata": {},
   "outputs": [],
   "source": [
    "import  random"
   ]
  },
  {
   "cell_type": "code",
   "execution_count": 1,
   "metadata": {},
   "outputs": [],
   "source": [
    "def get_user_choice():\n",
    "    \"\"\"Get the user's choice of rock, paper, or scissors.\"\"\"\n",
    "    while True:\n",
    "        user_choice = input(\"Enter your choice (rock,paper, scissors): \").lower()\n",
    "        if user_choice in ['rock', 'paper', 'scissors']:\n",
    "            return user_choice\n",
    "        else:\n",
    "            print(\"Invalid choice. please choose rock, paper,or scissors.\")\n",
    "\n",
    "def determine_winner(user_choice, computer_choice):\n",
    "    \"\"\"Determine the winner based on user and computer choices.\"\"\"\n",
    "    if user_choice == computer_choice:\n",
    "        return \"it's a tie!\"\n",
    "    elif (user_choice == 'rock' and computer_choice == 'scissors') or \\\n",
    "         (user_choice == 'paper'  and computer_choice == 'rock')  or \\\n",
    "         (user_choice == 'scissors' and computer_choice  == 'paper'):\n",
    "         return \"you win!\"\n",
    "    else:\n",
    "        return \"computer wins!\"\n",
    "    \n",
    "\n",
    "def play_game():\n",
    "    \"\"\"play a round of rock-paper-scissors.\"\"\"\n",
    "    print(\"lets play rock-paper-scissor!\")\n",
    "    user_choice = get_user_choice()\n",
    "    computer_choice = get_computer_choice()\n",
    "\n",
    "    print(f\"you chose: {user_choice}\")\n",
    "    print(f\"computer chose: {computer_choice}\")\n",
    "\n",
    "    print(determine_winner(user_choice, computer_choice))\n",
    "\n",
    "if __name__== \"_ _main_ _\":\n",
    "    play_game()\n"
   ]
  },
  {
   "cell_type": "code",
   "execution_count": null,
   "metadata": {},
   "outputs": [],
   "source": []
  },
  {
   "cell_type": "markdown",
   "metadata": {},
   "source": [
    "#TASK 2:Generate a pythone code for random passward generation"
   ]
  },
  {
   "cell_type": "code",
   "execution_count": 2,
   "metadata": {},
   "outputs": [],
   "source": [
    "import random\n",
    "import string\n",
    "\n",
    "def generate_random_passward(length=12):\n",
    "    # Define the pool of characters to choose from\n",
    "    characters = string.ascii_letters + string.digits + string.punctuation\n",
    "\n",
    "    # Generate the passward using random.choices\n",
    "    passward = ''.join(random.choices(characters, k=length))\n",
    "\n",
    "    return passward\n"
   ]
  },
  {
   "cell_type": "code",
   "execution_count": 5,
   "metadata": {},
   "outputs": [
    {
     "name": "stdout",
     "output_type": "stream",
     "text": [
      "random_passward: ^,R3I%qbFN:h\n"
     ]
    }
   ],
   "source": [
    "# Example usage:\n",
    "passward_length = 12\n",
    "random_password = generate_random_passward(passward_length)\n",
    "print(\"random_passward:\",random_password)"
   ]
  }
 ],
 "metadata": {
  "kernelspec": {
   "display_name": "Python 3",
   "language": "python",
   "name": "python3"
  },
  "language_info": {
   "codemirror_mode": {
    "name": "ipython",
    "version": 3
   },
   "file_extension": ".py",
   "mimetype": "text/x-python",
   "name": "python",
   "nbconvert_exporter": "python",
   "pygments_lexer": "ipython3",
   "version": "3.11.4"
  },
  "orig_nbformat": 4
 },
 "nbformat": 4,
 "nbformat_minor": 2
}
